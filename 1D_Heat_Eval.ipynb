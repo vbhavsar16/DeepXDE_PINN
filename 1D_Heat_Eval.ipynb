{
 "cells": [
  {
   "cell_type": "code",
   "execution_count": 2,
   "metadata": {},
   "outputs": [],
   "source": [
    "import deepxde as dde\n",
    "from deepxde.backend import tf\n",
    "import numpy as np\n",
    "from matplotlib import pyplot as plt"
   ]
  },
  {
   "cell_type": "code",
   "execution_count": 9,
   "metadata": {},
   "outputs": [
    {
     "name": "stdout",
     "output_type": "stream",
     "text": [
      "Warning: 2540 points required, but 2550 points sampled.\n"
     ]
    }
   ],
   "source": [
    "k = 0.4                                                                     # constant\n",
    "L = 1\n",
    "n = 1\n",
    "\n",
    "geom = dde.geometry.Interval(0,L)\n",
    "timedomain = dde.geometry.TimeDomain(0,n)\n",
    "geomtime = dde.geometry.GeometryXTime(geom, timedomain)                     # Making a domain of space and time\n",
    "\n",
    "ic = dde.icbc.IC(geomtime, lambda x: np.sin(n* np.pi * x[:, 0:1]/L), lambda _, on_initial: on_initial) # x[:,0:1] will return all row and first column only -> dimension will be (m, 1). DON'T USE x[:,0] TO AVOID GETTING THE FINAL DIM -> (m,)\n",
    "\n",
    "def double_first_column(input_array):\n",
    "    return 2 * input_array[:, 0:1]                                          # x[:,0:1] will return all row and first column only -> dimension will be (m, 1). DON'T USE x[:,0] TO AVOID GETTING THE FINAL DIM -> (m,)\n",
    "\n",
    "bc = dde.icbc.DirichletBC(geomtime, lambda input_array: double_first_column(input_array), lambda _, on_boundary: on_boundary)\n",
    "\n",
    "def pde(comp,u):\n",
    "    du_t = dde.grad.jacobian(u, comp, i=0, j=1)                             # Taking a jacobian of u (temperature/ x-directional velocity = scalar) over computational space and time. i,j are the value you choose to get the right value from the jacobian matrix.\n",
    "    du_xx = dde.grad.hessian(u, comp, i=0, j=0)                             # Same way hessian of u and i, j value to choose the right value from the matrix. (i = row, j = column)\n",
    "    return du_t - k * du_xx\n",
    "\n",
    "\n",
    "data = dde.data.TimePDE(\n",
    "    geomtime,\n",
    "    pde,\n",
    "    [bc,ic],\n",
    "    num_domain= 2540,\n",
    "    num_boundary= 80,\n",
    "    num_initial= 160,\n",
    "    num_test= 2540\n",
    ")\n",
    "\n",
    "net = dde.nn.FNN([2] + [20]*3 + [1], \"tanh\", \"Glorot normal\")"
   ]
  },
  {
   "cell_type": "code",
   "execution_count": 10,
   "metadata": {},
   "outputs": [
    {
     "name": "stdout",
     "output_type": "stream",
     "text": [
      "Compiling model...\n",
      "'compile' took 1.717535 s\n",
      "\n"
     ]
    }
   ],
   "source": [
    "model = dde.Model(data, net)\n",
    "model.compile(\"adam\", lr=1e-3)"
   ]
  },
  {
   "cell_type": "code",
   "execution_count": 14,
   "metadata": {},
   "outputs": [
    {
     "name": "stdout",
     "output_type": "stream",
     "text": [
      "Restoring model from model.ckpt-15000.pt ...\n",
      "\n"
     ]
    }
   ],
   "source": [
    "model.restore(\"model.ckpt-15000.pt\", verbose=1)"
   ]
  },
  {
   "cell_type": "code",
   "execution_count": 12,
   "metadata": {},
   "outputs": [
    {
     "ename": "NameError",
     "evalue": "name 'losshistory' is not defined",
     "output_type": "error",
     "traceback": [
      "\u001b[1;31m---------------------------------------------------------------------------\u001b[0m",
      "\u001b[1;31mNameError\u001b[0m                                 Traceback (most recent call last)",
      "Cell \u001b[1;32mIn[12], line 2\u001b[0m\n\u001b[0;32m      1\u001b[0m \u001b[38;5;66;03m# To see the training and testing loss\u001b[39;00m\n\u001b[1;32m----> 2\u001b[0m dde\u001b[38;5;241m.\u001b[39msaveplot(\u001b[43mlosshistory\u001b[49m, train_state, issave\u001b[38;5;241m=\u001b[39m \u001b[38;5;28;01mTrue\u001b[39;00m, isplot\u001b[38;5;241m=\u001b[39m \u001b[38;5;28;01mTrue\u001b[39;00m)\n",
      "\u001b[1;31mNameError\u001b[0m: name 'losshistory' is not defined"
     ]
    }
   ],
   "source": [
    "# To see the training and testing loss\n",
    "dde.saveplot(losshistory, train_state, issave= True, isplot= True)"
   ]
  },
  {
   "cell_type": "code",
   "execution_count": null,
   "metadata": {},
   "outputs": [],
   "source": []
  }
 ],
 "metadata": {
  "kernelspec": {
   "display_name": "Python 3",
   "language": "python",
   "name": "python3"
  },
  "language_info": {
   "codemirror_mode": {
    "name": "ipython",
    "version": 3
   },
   "file_extension": ".py",
   "mimetype": "text/x-python",
   "name": "python",
   "nbconvert_exporter": "python",
   "pygments_lexer": "ipython3",
   "version": "3.12.2"
  }
 },
 "nbformat": 4,
 "nbformat_minor": 2
}
